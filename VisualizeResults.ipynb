{
 "cells": [
  {
   "cell_type": "code",
   "execution_count": 1,
   "id": "204440fb-2190-4edf-b436-98b50230d5c0",
   "metadata": {},
   "outputs": [
    {
     "name": "stderr",
     "output_type": "stream",
     "text": [
      "/home/shengduo/anaconda3/lib/python3.9/site-packages/scipy/__init__.py:146: UserWarning: A NumPy version >=1.16.5 and <1.23.0 is required for this version of SciPy (detected version 1.24.1\n",
      "  warnings.warn(f\"A NumPy version >={np_minversion} and <{np_maxversion}\"\n"
     ]
    }
   ],
   "source": [
    "#Ｉmport necessary packages\n",
    "import torch\n",
    "import torch.nn as nn\n",
    "import numpy as np\n",
    "from matplotlib import pyplot as plt\n",
    "import xitorch\n",
    "from xitorch.optimize import rootfinder\n",
    "import optuna\n",
    "from torch.utils.data import TensorDataset, DataLoader\n",
    "import joblib "
   ]
  },
  {
   "cell_type": "code",
   "execution_count": 23,
   "id": "fdc87966-4946-46ad-b93e-6623eecf877f",
   "metadata": {},
   "outputs": [],
   "source": [
    "def show_study(dim_xi):\n",
    "    \n",
    "    this_study = joblib.load(\"./data/study_dim_xi_{}.pkl\".format(dim_xi))\n",
    "    print(\"best params: \", this_study.best_params)\n",
    "    print(\"best value: \", this_study.best_value)\n"
   ]
  },
  {
   "cell_type": "code",
   "execution_count": 24,
   "id": "7c9535eb-81ec-48cc-8d61-fcf9f8f48013",
   "metadata": {},
   "outputs": [
    {
     "name": "stdout",
     "output_type": "stream",
     "text": [
      "best params:  {'W_layers': 3, 'W_layer_units_exponent_0': 9, 'W_layer_units_exponent_1': 8, 'W_layer_units_exponent_2': 9, 'log_learning_rate': -2.620497604901103, 'training_batch_size': 9, 'training_p': 8}\n",
      "best value:  0.20352153480052948\n"
     ]
    }
   ],
   "source": [
    "show_study(0)"
   ]
  },
  {
   "cell_type": "code",
   "execution_count": 25,
   "id": "b95c7cb4-ebb8-4b92-9c10-e0a638e8859d",
   "metadata": {},
   "outputs": [
    {
     "name": "stdout",
     "output_type": "stream",
     "text": [
      "best params:  {'W_layers': 3, 'W_layer_units_exponent_0': 9, 'W_layer_units_exponent_1': 8, 'W_layer_units_exponent_2': 9, 'log_learning_rate': -2.620497604901103, 'training_batch_size': 9, 'training_p': 8}\n",
      "best value:  0.20352153480052948\n"
     ]
    }
   ],
   "source": [
    "show_study(1)"
   ]
  },
  {
   "cell_type": "code",
   "execution_count": 26,
   "id": "cbf55c7b-b5ce-4fb8-9e21-c823edc6cde8",
   "metadata": {},
   "outputs": [
    {
     "name": "stdout",
     "output_type": "stream",
     "text": [
      "best params:  {'W_layers': 3, 'W_layer_units_exponent_0': 9, 'W_layer_units_exponent_1': 8, 'W_layer_units_exponent_2': 9, 'log_learning_rate': -2.620497604901103, 'training_batch_size': 9, 'training_p': 8}\n",
      "best value:  0.20352153480052948\n"
     ]
    }
   ],
   "source": [
    "show_study(2)"
   ]
  },
  {
   "cell_type": "code",
   "execution_count": 27,
   "id": "a57363d2-b0dd-43a7-af89-b5e71608f156",
   "metadata": {},
   "outputs": [
    {
     "name": "stdout",
     "output_type": "stream",
     "text": [
      "best params:  {'W_layers': 3, 'W_layer_units_exponent_0': 9, 'W_layer_units_exponent_1': 8, 'W_layer_units_exponent_2': 9, 'log_learning_rate': -2.620497604901103, 'training_batch_size': 9, 'training_p': 8}\n",
      "best value:  0.20352153480052948\n"
     ]
    }
   ],
   "source": [
    "show_study(4)"
   ]
  },
  {
   "cell_type": "code",
   "execution_count": 35,
   "id": "04529bbd-9c15-4077-92af-908f80f8cdab",
   "metadata": {},
   "outputs": [],
   "source": [
    "shit = joblib.load(\"./data/study_dim_xi_1.pkl\")"
   ]
  },
  {
   "cell_type": "code",
   "execution_count": 36,
   "id": "ad35f782-387b-4f81-8d3f-4f0b6bbfa92e",
   "metadata": {},
   "outputs": [
    {
     "data": {
      "text/plain": [
       "<optuna.study.study.Study at 0x7f43f80fc070>"
      ]
     },
     "execution_count": 36,
     "metadata": {},
     "output_type": "execute_result"
    }
   ],
   "source": [
    "shit"
   ]
  },
  {
   "cell_type": "code",
   "execution_count": 37,
   "id": "7a87e62f-8a10-4220-ad1e-47765e0df3b0",
   "metadata": {},
   "outputs": [
    {
     "data": {
      "text/plain": [
       "{'W_layers': 3,\n",
       " 'W_layer_units_exponent_0': 9,\n",
       " 'W_layer_units_exponent_1': 8,\n",
       " 'W_layer_units_exponent_2': 9,\n",
       " 'log_learning_rate': -2.620497604901103,\n",
       " 'training_batch_size': 9,\n",
       " 'training_p': 8}"
      ]
     },
     "execution_count": 37,
     "metadata": {},
     "output_type": "execute_result"
    }
   ],
   "source": [
    "shit.best_params"
   ]
  },
  {
   "cell_type": "code",
   "execution_count": 38,
   "id": "ff7d464b-68ad-4a0c-8346-ca8d9f6833bf",
   "metadata": {},
   "outputs": [
    {
     "data": {
      "text/plain": [
       "0.20352153480052948"
      ]
     },
     "execution_count": 38,
     "metadata": {},
     "output_type": "execute_result"
    }
   ],
   "source": [
    "shit.best_value"
   ]
  },
  {
   "cell_type": "code",
   "execution_count": null,
   "id": "14fd81f8-fe75-4153-b2d0-bb8f90f05fdc",
   "metadata": {},
   "outputs": [],
   "source": []
  }
 ],
 "metadata": {
  "kernelspec": {
   "display_name": "Python 3 (ipykernel)",
   "language": "python",
   "name": "python3"
  },
  "language_info": {
   "codemirror_mode": {
    "name": "ipython",
    "version": 3
   },
   "file_extension": ".py",
   "mimetype": "text/x-python",
   "name": "python",
   "nbconvert_exporter": "python",
   "pygments_lexer": "ipython3",
   "version": "3.9.12"
  }
 },
 "nbformat": 4,
 "nbformat_minor": 5
}
